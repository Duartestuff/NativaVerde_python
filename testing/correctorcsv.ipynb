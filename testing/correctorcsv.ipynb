{
 "cells": [
  {
   "cell_type": "code",
   "execution_count": 4,
   "metadata": {},
   "outputs": [],
   "source": [
    "import pandas as pd\n",
    "import re\n",
    "\n",
    "# Read the CSV file into a pandas DataFrame\n",
    "df = pd.read_csv('../database/Siembras.csv')\n",
    "\n",
    "# Regular expression pattern to match incorrectly encoded characters\n",
    "pattern = r'Ã([¡-ÿ])'\n",
    "\n",
    "# Function to replace incorrectly encoded characters\n",
    "def replace_mangled_tildes(match):\n",
    "    return match.group(1).encode('latin1').decode('utf-8')\n",
    "\n",
    "# Apply regex to each cell in specific columns (adjust columns as needed)\n",
    "for column in ['Nombre comun', 'evento', 'Ciudad', 'Vereda']:\n",
    "    df[column] = df[column].apply(lambda x: re.sub(pattern, replace_mangled_tildes, str(x)))\n",
    "\n",
    "# Write the corrected DataFrame to a new CSV file\n",
    "df.to_excel('corrected_file.xlsx', index=False)"
   ]
  }
 ],
 "metadata": {
  "kernelspec": {
   "display_name": "Python 3",
   "language": "python",
   "name": "python3"
  },
  "language_info": {
   "codemirror_mode": {
    "name": "ipython",
    "version": 3
   },
   "file_extension": ".py",
   "mimetype": "text/x-python",
   "name": "python",
   "nbconvert_exporter": "python",
   "pygments_lexer": "ipython3",
   "version": "3.11.3"
  }
 },
 "nbformat": 4,
 "nbformat_minor": 2
}
